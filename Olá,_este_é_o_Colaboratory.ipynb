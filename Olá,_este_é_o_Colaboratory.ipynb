{
  "cells": [
    {
      "cell_type": "markdown",
      "metadata": {
        "id": "view-in-github",
        "colab_type": "text"
      },
      "source": [
        "<a href=\"https://colab.research.google.com/github/hackerdennis/ALGORITMOS-DE-LINGAUGEM-E-PROGRAMA-O---2024---4RTO-SEMESTRE/blob/main/Ol%C3%A1%2C_este_%C3%A9_o_Colaboratory.ipynb\" target=\"_parent\"><img src=\"https://colab.research.google.com/assets/colab-badge.svg\" alt=\"Open In Colab\"/></a>"
      ]
    },
    {
      "cell_type": "markdown",
      "source": [
        "27/08/2024"
      ],
      "metadata": {
        "id": "yY28qEBwG5s3"
      }
    },
    {
      "cell_type": "code",
      "source": [
        "num=int(input(\"digite valor inteiro: \"))\n",
        "print(type(num))\n",
        "quoc=num//2\n",
        "resto=num%2\n",
        "print(quoc)\n",
        "print(resto)\n"
      ],
      "metadata": {
        "colab": {
          "base_uri": "https://localhost:8080/"
        },
        "id": "HCJytar0Hlzz",
        "outputId": "2df338e6-0e9d-43df-9075-6a3f55664faa"
      },
      "execution_count": 66,
      "outputs": [
        {
          "output_type": "stream",
          "name": "stdout",
          "text": [
            "digite valor inteiro: 9\n",
            "<class 'int'>\n",
            "4\n",
            "1\n"
          ]
        }
      ]
    },
    {
      "cell_type": "code",
      "source": [
        "v1=float(input(\"digite_valor_1:\"))\n",
        "v2=float(input(\"digite_valor_2:\"))\n",
        "media=(v1+v2)/2\n",
        "print(media)"
      ],
      "metadata": {
        "id": "Q_NT6fc7LszG",
        "outputId": "2376dca3-ef39-4bdd-d185-0aa96d33ec3a",
        "colab": {
          "base_uri": "https://localhost:8080/"
        }
      },
      "execution_count": 68,
      "outputs": [
        {
          "output_type": "stream",
          "name": "stdout",
          "text": [
            "digite_valor_1:4\n",
            "digite_valor_2:4\n",
            "4.0\n"
          ]
        }
      ]
    },
    {
      "cell_type": "code",
      "source": [
        "b=float(input(\"digite_valor:\"))\n",
        "h=float(input(\"digite_valor:\"))\n",
        "area=(b*h)/2\n",
        "print(area)"
      ],
      "metadata": {
        "id": "yXLT7RtTMEKj",
        "outputId": "eecf02fe-c584-4566-c36e-bf40cee8c295",
        "colab": {
          "base_uri": "https://localhost:8080/"
        }
      },
      "execution_count": 71,
      "outputs": [
        {
          "output_type": "stream",
          "name": "stdout",
          "text": [
            "digite_valor:2\n",
            "digite_valor:4\n",
            "4.0\n"
          ]
        }
      ]
    }
  ],
  "metadata": {
    "colab": {
      "name": "Olá, este é o Colaboratory",
      "provenance": [],
      "include_colab_link": true
    },
    "kernelspec": {
      "display_name": "Python 3",
      "name": "python3"
    }
  },
  "nbformat": 4,
  "nbformat_minor": 0
}